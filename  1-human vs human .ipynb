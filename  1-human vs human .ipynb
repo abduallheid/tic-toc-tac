{
 "cells": [
  {
   "cell_type": "markdown",
   "metadata": {},
   "source": [
    "## 1-human vs human "
   ]
  },
  {
   "cell_type": "code",
   "execution_count": null,
   "metadata": {},
   "outputs": [
    {
     "name": "stdout",
     "output_type": "stream",
     "text": [
      "Welcome to Tic Tac Toe Game!\n"
     ]
    }
   ],
   "source": [
    "import random\n",
    "try:\n",
    "    raw_input()\n",
    "except NameError:\n",
    "    raw_input = input\n",
    "\n",
    "\n",
    "WIN_COMBINATIONS = [(1, 2, 3),\n",
    "                    (4, 5, 6),\n",
    "                    (7, 8, 9),\n",
    "                    (1, 4, 7),\n",
    "                    (2, 5, 8),\n",
    "                    (3, 6, 9),\n",
    "                    (1, 5, 9),\n",
    "                    (3, 5, 7)]\n",
    "\n",
    "def display_board(board):\n",
    "    print('''   |   |  \n",
    " {} | {} | {}\n",
    "   |   |\n",
    "-----------\n",
    "   |   |\n",
    " {} | {} | {} \n",
    "   |   |\n",
    "-----------\n",
    "   |   |\n",
    " {} | {} | {}\n",
    "   |   |'''.format(*board[1:10]))\n",
    "\n",
    "def player_input():\n",
    "    marker = ' '\n",
    "    while not (marker == 'X' or marker == 'O'):\n",
    "        marker = raw_input('Player 1, Choose O or X to play!').upper()\n",
    "    if marker == 'X':\n",
    "        return {'Player 1': 'X', 'Player 2': 'O'}\n",
    "    else:\n",
    "        return {'Player 2': 'X', 'Player 1': 'O'}\n",
    "\n",
    "def win_check (board):\n",
    "    return any(board[a] != ' ' and board[a] == board[b] == board[c] for a, b, c in WIN_COMBINATIONS)\n",
    "\n",
    "def choose_first(players):\n",
    "    random_player = 'Player {}'.format(random.randint(1, 2))\n",
    "    return random_player, players[random_player]\n",
    "\n",
    "def full_check (board):\n",
    "    return all(b != ' ' for b in board)\n",
    "\n",
    "def player_choice(board):\n",
    "    while True:\n",
    "        try:\n",
    "            position = int(raw_input('Choose number input 1-9'))\n",
    "            if position in range(1, 10) and board[position] == ' ':\n",
    "                return position\n",
    "        except ValueError:\n",
    "            pass\n",
    "\n",
    "def replay():\n",
    "    return raw_input('Do you want to play again? Enter Yes or No: ').lower().startswith('y')\n",
    "\n",
    "def ttt():\n",
    "    board = [' ' for _ in range(10)]\n",
    "    players = player_input()\n",
    "    name, player_marker = choose_first(players)\n",
    "    print('{} with marker {} will go first.'.format(name, player_marker))\n",
    "    while True:\n",
    "        position = player_choice(board)\n",
    "        board[position] = player_marker\n",
    "        display_board(board)\n",
    "        if win_check(board):\n",
    "            print('Congratulations {}! You have won the game!'.format(name))\n",
    "            break\n",
    "\n",
    "        if full_check(board):\n",
    "            print('Congratulations {} and {}! You have a tie!'.format(players.keys()))\n",
    "            break\n",
    "\n",
    "        name = 'Player 1' if name == 'Player 2' else 'Player 2'\n",
    "        player_marker = players[name]\n",
    "        print(name, player_marker)\n",
    "\n",
    "if __name__ == '__main__':\n",
    "    print('Welcome to Tic Tac Toe Game!')\n",
    "    while True:\n",
    "        ttt()\n",
    "        if not replay():\n",
    "            break"
   ]
  },
  {
   "cell_type": "code",
   "execution_count": null,
   "metadata": {},
   "outputs": [],
   "source": []
  }
 ],
 "metadata": {
  "kernelspec": {
   "display_name": "Python 3",
   "language": "python",
   "name": "python3"
  },
  "language_info": {
   "codemirror_mode": {
    "name": "ipython",
    "version": 3
   },
   "file_extension": ".py",
   "mimetype": "text/x-python",
   "name": "python",
   "nbconvert_exporter": "python",
   "pygments_lexer": "ipython3",
   "version": "3.7.6"
  }
 },
 "nbformat": 4,
 "nbformat_minor": 4
}
